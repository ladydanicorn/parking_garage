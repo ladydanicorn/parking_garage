{
 "cells": [
  {
   "cell_type": "code",
   "execution_count": 26,
   "id": "056d12ea",
   "metadata": {},
   "outputs": [
    {
     "name": "stdout",
     "output_type": "stream",
     "text": [
      "Ticket Ticket-10 issued. Parking space 10 allocated.\n",
      "Your ticket number is: Ticket-10\n",
      "Enter payment amount: \n",
      "Your ticket has not yet been paid.\n",
      "Please input payment to leave the garage: \n",
      "Invalid payment amount. Please try again.\n",
      "Please input payment to leave the garage: \n",
      "Invalid payment amount. Please try again.\n",
      "Please input payment to leave the garage: \n",
      "Invalid payment amount. Please try again.\n",
      "Please input payment to leave the garage: 1\n",
      "Ticket paid. You have 15 minutes to exit the garage.\n",
      "Thank you, have a nice day!\n"
     ]
    }
   ],
   "source": [
    "class ParkingGarage:\n",
    "    def __init__(self):\n",
    "        self.tickets = [f'Ticket-{i+1}' for i in range(10)]\n",
    "        self.parking_spaces = list(range(1, 11))\n",
    "        self.current_ticket = {}\n",
    "\n",
    "    def take_ticket(self):\n",
    "        if self.tickets:\n",
    "            ticket = self.tickets.pop()\n",
    "            parking_space = self.parking_spaces.pop()\n",
    "            self.current_ticket[ticket] = {'parking_space': parking_space, 'paid': False}\n",
    "            print(f\"Ticket {ticket} issued. Parking space {parking_space} allocated.\")\n",
    "\n",
    "    def display_ticket_number(self):\n",
    "        if self.current_ticket:\n",
    "            ticket = next(iter(self.current_ticket))\n",
    "            print(f\"Your ticket number is: {ticket}\")\n",
    "        else:\n",
    "            print(\"No tickets issued yet.\")\n",
    "\n",
    "    def pay_for_parking(self):\n",
    "        ticket = next(iter(self.current_ticket))\n",
    "        payment = input(\"Enter payment amount: \")\n",
    "        if payment.strip():\n",
    "            self.current_ticket[ticket]['paid'] = True\n",
    "            print(\"Ticket paid. You have 15 minutes to exit the garage.\")\n",
    "        else:\n",
    "            print(\"Your ticket has not yet been paid.\")\n",
    "\n",
    "    def leave_garage(self):\n",
    "        ticket = next(iter(self.current_ticket))\n",
    "        if self.current_ticket[ticket]['paid']:\n",
    "            print(\"Thank you, have a nice day!\")\n",
    "            self.parking_spaces.append(self.current_ticket[ticket]['parking_space'])\n",
    "            del self.current_ticket[ticket]\n",
    "        else:\n",
    "            while True:\n",
    "                payment = input(\"Please input payment to leave the garage: \")\n",
    "                if payment.strip():\n",
    "                    self.current_ticket[ticket]['paid'] = True\n",
    "                    print(\"Ticket paid. You have 15 minutes to exit the garage.\")\n",
    "                    print(\"Thank you, have a nice day!\")\n",
    "                    self.parking_spaces.append(self.current_ticket[ticket]['parking_space'])\n",
    "                    del self.current_ticket[ticket]\n",
    "                    break\n",
    "                else:\n",
    "                    print(\"Invalid payment amount. Please try again.\")\n",
    "\n",
    "# Initialize the ParkingGarage instance\n",
    "garage = ParkingGarage()\n",
    "\n",
    "# Test the methods\n",
    "garage.take_ticket()\n",
    "garage.display_ticket_number()\n",
    "garage.pay_for_parking()\n",
    "garage.leave_garage()\n"
   ]
  }
 ],
 "metadata": {
  "kernelspec": {
   "display_name": "Python 3 (ipykernel)",
   "language": "python",
   "name": "python3"
  },
  "language_info": {
   "codemirror_mode": {
    "name": "ipython",
    "version": 3
   },
   "file_extension": ".py",
   "mimetype": "text/x-python",
   "name": "python",
   "nbconvert_exporter": "python",
   "pygments_lexer": "ipython3",
   "version": "3.11.5"
  }
 },
 "nbformat": 4,
 "nbformat_minor": 5
}
